{
 "cells": [
  {
   "cell_type": "code",
   "execution_count": 2,
   "metadata": {},
   "outputs": [],
   "source": [
    "import random\n",
    "from datetime import datetime\n",
    "from sklearn.model_selection import train_test_split\n",
    "\n",
    "import numpy as np\n",
    "import pandas as pd\n",
    "import torch\n",
    "from torch import nn, optim\n",
    "from torch.utils.data import DataLoader\n",
    "from torch.utils.data import TensorDataset\n",
    "from tqdm import tqdm"
   ]
  },
  {
   "cell_type": "code",
   "execution_count": 150,
   "metadata": {},
   "outputs": [],
   "source": [
    "def data_organize_columns(data, replace_dict):\n",
    "     \n",
    "    # remove 'voted' if trainset\n",
    "    if 'voted' in data.columns:\n",
    "        data = data.drop(['voted'], axis=1)\n",
    "    \n",
    "    # replace dict\n",
    "    data = data.astype(replace_dict)\n",
    "    # expanse colums\n",
    "    data = pd.get_dummies(data)\n",
    "   \n",
    "    print('* Oganize - data type: pd, data shape: ', data.shape)\n",
    "    return data\n",
    "\n",
    "def data_value_tansform(data):\n",
    "    data_np = data.to_numpy()\n",
    "    \n",
    "    data_np[:, :41] = (data_np[:, :41] - 3.) / 2. # Q\n",
    "    data_np[:, 41] = (data_np[:, 41] - 5.) / 5. # familysize\n",
    "    data_np[:, 43:53] = (data_np[:, 43:53] - 3.5) / 3.5 # tp\n",
    "    \n",
    "    data_tf = pd.DataFrame(data_np, columns=data.columns)\n",
    "\n",
    "    print('* Val transform - data type: pd, data shape: ', data_tf.shape)\n",
    "    return data_tf\n",
    "\n",
    "def data_drop(data, drop_list):\n",
    "            \n",
    "    data = data.drop(drop_list, axis=1)\n",
    "    print('* Drop columns - data type: pd, data shape: ', data.shape)\n",
    "\n",
    "    return data\n",
    "\n",
    "\n",
    "def make_x(data, replace_dict, drop_list):\n",
    "    data = data_organize_columns(data, replace_dict)\n",
    "    data = data_value_tansform(data)\n",
    "    data = data_drop(data, drop_list)\n",
    "    data = data.to_numpy()\n",
    "    \n",
    "    print('==output x==', data.shape)\n",
    "    return data\n",
    "    \n",
    "    \n",
    "def make_y(data):\n",
    "    y = data['voted']\n",
    "    y = 2 - y.to_numpy()\n",
    "    \n",
    "    print('==output y===', y.shape)\n",
    "    return y"
   ]
  },
  {
   "cell_type": "markdown",
   "metadata": {},
   "source": [
    "# 1. 데이터 준비"
   ]
  },
  {
   "cell_type": "code",
   "execution_count": 151,
   "metadata": {},
   "outputs": [],
   "source": [
    "train_data = pd.read_csv('../0-Data/org/train.csv').drop([379, 24598], axis=0)\n",
    "test_data = pd.read_csv('../0-Data/org/test_x.csv')\n",
    "\n",
    "replace_dict = {'education': str, 'engnat': str, 'married': str, 'urban': str}\n",
    "drop_list = ['QaE', 'QbE', 'QcE', 'QdE', 'QeE',\n",
    "             'QfE', 'QgE', 'QhE', 'QiE', 'QjE',\n",
    "             'QkE', 'QlE', 'QmE', 'QnE', 'QoE',\n",
    "             'QpE', 'QqE', 'QrE', 'QsE', 'QtE',\n",
    "             'index', 'hand']"
   ]
  },
  {
   "cell_type": "code",
   "execution_count": 157,
   "metadata": {},
   "outputs": [
    {
     "name": "stdout",
     "output_type": "stream",
     "text": [
      "* Oganize - data type: pd, data shape:  (45530, 113)\n",
      "* Val transform - data type: pd, data shape:  (45530, 113)\n",
      "* Drop columns - data type: pd, data shape:  (45530, 91)\n",
      "==output x== (45530, 91)\n",
      "==output y=== (45530,)\n"
     ]
    }
   ],
   "source": [
    "x_train = make_x(train_data, replace_dict, drop_list)\n",
    "y_train = make_y(train_data)"
   ]
  },
  {
   "cell_type": "code",
   "execution_count": 173,
   "metadata": {},
   "outputs": [
    {
     "name": "stdout",
     "output_type": "stream",
     "text": [
      "* Oganize - data type: pd, data shape:  (11383, 113)\n",
      "* Val transform - data type: pd, data shape:  (11383, 113)\n",
      "* Drop columns - data type: pd, data shape:  (11383, 91)\n",
      "==output x== (11383, 91)\n"
     ]
    }
   ],
   "source": [
    "x_test = make_x(test_data, replace_dict, drop_list)"
   ]
  },
  {
   "cell_type": "code",
   "execution_count": 174,
   "metadata": {},
   "outputs": [],
   "source": [
    "train_x = torch.tensor(x_train, dtype=torch.float32)\n",
    "train_y = torch.tensor(y_train, dtype=torch.float32)\n",
    "test_x = torch.tensor(x_test, dtype=torch.float32)"
   ]
  },
  {
   "cell_type": "code",
   "execution_count": 175,
   "metadata": {},
   "outputs": [],
   "source": [
    "from sklearn.model_selection import train_test_split\n",
    "train_x, valid_x, train_y, valid_y  = train_test_split(train_x, train_y, test_size=0.2, random_state=123)"
   ]
  },
  {
   "cell_type": "code",
   "execution_count": 176,
   "metadata": {},
   "outputs": [
    {
     "data": {
      "text/plain": [
       "(torch.Size([36424, 91]), torch.Size([36424]))"
      ]
     },
     "execution_count": 176,
     "metadata": {},
     "output_type": "execute_result"
    }
   ],
   "source": [
    "train_x.shape, train_y.shape"
   ]
  },
  {
   "cell_type": "markdown",
   "metadata": {},
   "source": [
    "# 2. 모델 훈련"
   ]
  },
  {
   "cell_type": "code",
   "execution_count": 177,
   "metadata": {},
   "outputs": [
    {
     "name": "stderr",
     "output_type": "stream",
     "text": [
      "01/10: 100%|██████████| 20/20 [00:19<00:00,  1.02it/s]\n",
      "02/10:   5%|▌         | 1/20 [00:01<00:35,  1.86s/it]\n"
     ]
    },
    {
     "ename": "KeyboardInterrupt",
     "evalue": "",
     "output_type": "error",
     "traceback": [
      "\u001b[0;31m---------------------------------------------------------------------------\u001b[0m",
      "\u001b[0;31mKeyboardInterrupt\u001b[0m                         Traceback (most recent call last)",
      "\u001b[0;32m<ipython-input-177-b7aaf58a4135>\u001b[0m in \u001b[0;36m<module>\u001b[0;34m\u001b[0m\n\u001b[1;32m     56\u001b[0m     \u001b[0;32mfor\u001b[0m \u001b[0mepoch\u001b[0m \u001b[0;32min\u001b[0m \u001b[0mtqdm\u001b[0m\u001b[0;34m(\u001b[0m\u001b[0mrange\u001b[0m\u001b[0;34m(\u001b[0m\u001b[0mN_EPOCH\u001b[0m\u001b[0;34m)\u001b[0m\u001b[0;34m,\u001b[0m \u001b[0mdesc\u001b[0m\u001b[0;34m=\u001b[0m\u001b[0;34m'{:02d}/{:02d}'\u001b[0m\u001b[0;34m.\u001b[0m\u001b[0mformat\u001b[0m\u001b[0;34m(\u001b[0m\u001b[0mno\u001b[0m \u001b[0;34m+\u001b[0m \u001b[0;36m1\u001b[0m\u001b[0;34m,\u001b[0m \u001b[0mN_MODEL\u001b[0m\u001b[0;34m)\u001b[0m\u001b[0;34m)\u001b[0m\u001b[0;34m:\u001b[0m\u001b[0;34m\u001b[0m\u001b[0;34m\u001b[0m\u001b[0m\n\u001b[1;32m     57\u001b[0m         \u001b[0;32mfor\u001b[0m \u001b[0midx\u001b[0m\u001b[0;34m,\u001b[0m \u001b[0;34m(\u001b[0m\u001b[0mxx\u001b[0m\u001b[0;34m,\u001b[0m \u001b[0myy\u001b[0m\u001b[0;34m)\u001b[0m \u001b[0;32min\u001b[0m \u001b[0menumerate\u001b[0m\u001b[0;34m(\u001b[0m\u001b[0mtrain_loader\u001b[0m\u001b[0;34m)\u001b[0m\u001b[0;34m:\u001b[0m\u001b[0;34m\u001b[0m\u001b[0;34m\u001b[0m\u001b[0m\n\u001b[0;32m---> 58\u001b[0;31m             \u001b[0moptimizer\u001b[0m\u001b[0;34m.\u001b[0m\u001b[0mzero_grad\u001b[0m\u001b[0;34m(\u001b[0m\u001b[0;34m)\u001b[0m\u001b[0;34m\u001b[0m\u001b[0;34m\u001b[0m\u001b[0m\n\u001b[0m\u001b[1;32m     59\u001b[0m             \u001b[0mxx\u001b[0m\u001b[0;34m,\u001b[0m \u001b[0myy\u001b[0m \u001b[0;34m=\u001b[0m \u001b[0mxx\u001b[0m\u001b[0;34m.\u001b[0m\u001b[0mto\u001b[0m\u001b[0;34m(\u001b[0m\u001b[0mDEVICE\u001b[0m\u001b[0;34m)\u001b[0m\u001b[0;34m,\u001b[0m \u001b[0myy\u001b[0m\u001b[0;34m.\u001b[0m\u001b[0mto\u001b[0m\u001b[0;34m(\u001b[0m\u001b[0mDEVICE\u001b[0m\u001b[0;34m)\u001b[0m\u001b[0;34m\u001b[0m\u001b[0;34m\u001b[0m\u001b[0m\n\u001b[1;32m     60\u001b[0m             \u001b[0mpred\u001b[0m \u001b[0;34m=\u001b[0m \u001b[0mmodel\u001b[0m\u001b[0;34m(\u001b[0m\u001b[0mxx\u001b[0m\u001b[0;34m)\u001b[0m\u001b[0;34m.\u001b[0m\u001b[0msqueeze\u001b[0m\u001b[0;34m(\u001b[0m\u001b[0;34m)\u001b[0m\u001b[0;34m\u001b[0m\u001b[0;34m\u001b[0m\u001b[0m\n",
      "\u001b[0;32m~/miniconda3/lib/python3.7/site-packages/torch/optim/optimizer.py\u001b[0m in \u001b[0;36mzero_grad\u001b[0;34m(self, set_to_none)\u001b[0m\n\u001b[1;32m    190\u001b[0m                         \u001b[0;32melse\u001b[0m\u001b[0;34m:\u001b[0m\u001b[0;34m\u001b[0m\u001b[0;34m\u001b[0m\u001b[0m\n\u001b[1;32m    191\u001b[0m                             \u001b[0mp\u001b[0m\u001b[0;34m.\u001b[0m\u001b[0mgrad\u001b[0m\u001b[0;34m.\u001b[0m\u001b[0mrequires_grad_\u001b[0m\u001b[0;34m(\u001b[0m\u001b[0;32mFalse\u001b[0m\u001b[0;34m)\u001b[0m\u001b[0;34m\u001b[0m\u001b[0;34m\u001b[0m\u001b[0m\n\u001b[0;32m--> 192\u001b[0;31m                         \u001b[0mp\u001b[0m\u001b[0;34m.\u001b[0m\u001b[0mgrad\u001b[0m\u001b[0;34m.\u001b[0m\u001b[0mzero_\u001b[0m\u001b[0;34m(\u001b[0m\u001b[0;34m)\u001b[0m\u001b[0;34m\u001b[0m\u001b[0;34m\u001b[0m\u001b[0m\n\u001b[0m\u001b[1;32m    193\u001b[0m \u001b[0;34m\u001b[0m\u001b[0m\n\u001b[1;32m    194\u001b[0m     \u001b[0;32mdef\u001b[0m \u001b[0mstep\u001b[0m\u001b[0;34m(\u001b[0m\u001b[0mself\u001b[0m\u001b[0;34m,\u001b[0m \u001b[0mclosure\u001b[0m\u001b[0;34m)\u001b[0m\u001b[0;34m:\u001b[0m\u001b[0;34m\u001b[0m\u001b[0;34m\u001b[0m\u001b[0m\n",
      "\u001b[0;31mKeyboardInterrupt\u001b[0m: "
     ]
    }
   ],
   "source": [
    "random.seed(0)\n",
    "np.random.seed(0)\n",
    "torch.manual_seed(0)\n",
    "torch.backends.cudnn.deterministic = True\n",
    "torch.backends.cudnn.benchmark = False\n",
    "\n",
    "DEVICE = 'cuda:0' if torch.cuda.is_available() else 'cpu'\n",
    "\n",
    "\n",
    "N_MODEL = 10\n",
    "N_EPOCH = 20\n",
    "BATCH_SIZE = 64\n",
    "LOADER_PARAM = {\n",
    "    'batch_size': BATCH_SIZE,\n",
    "    'num_workers': 4,\n",
    "    'pin_memory': True\n",
    "}\n",
    "\n",
    "prediction_val = np.zeros((len(valid_x), 1), dtype=np.float32)\n",
    "prediction = np.zeros((len(test_x), 1), dtype=np.float32)\n",
    "\n",
    "\n",
    "for no in range(N_MODEL):\n",
    "\n",
    "    train_loader = DataLoader(TensorDataset(train_x, train_y),\n",
    "                              shuffle=True, drop_last=True, **LOADER_PARAM)\n",
    "    \n",
    "    valid_loader = DataLoader(TensorDataset(valid_x, torch.zeros((len(valid_x),), dtype=torch.float32)),\n",
    "                              shuffle=False, drop_last=False, **LOADER_PARAM)\n",
    "    \n",
    "    test_loader = DataLoader(TensorDataset(test_x, torch.zeros((len(test_x),), dtype=torch.float32)),\n",
    "                             shuffle=False, drop_last=False, **LOADER_PARAM)\n",
    "    model = nn.Sequential(\n",
    "        nn.Dropout(0.05),\n",
    "        nn.Linear(91, 96, bias=False),\n",
    "        nn.LeakyReLU(0.05, inplace=True),\n",
    "        \n",
    "        nn.Dropout(0.5),\n",
    "        nn.Linear(96, 36, bias=False),\n",
    "        nn.ReLU(inplace=True),\n",
    "        \n",
    "        nn.Dropout(0.5),\n",
    "        nn.Linear(36, 12, bias=False),\n",
    "        nn.ReLU(inplace=True),\n",
    "        \n",
    "        nn.Linear(12, 1)\n",
    "    ).to(DEVICE)\n",
    "    \n",
    "    \n",
    "    criterion = torch.nn.BCEWithLogitsLoss(pos_weight=torch.tensor([1.20665], device=DEVICE))\n",
    "    optimizer = optim.AdamW(model.parameters(), lr=1e-3, weight_decay=4e-2)\n",
    "    scheduler = optim.lr_scheduler.CosineAnnealingWarmRestarts(\n",
    "        optimizer, T_0=N_EPOCH // 4, eta_min=1.2e-5)\n",
    "\n",
    "    model.train()\n",
    "    for epoch in tqdm(range(N_EPOCH), desc='{:02d}/{:02d}'.format(no + 1, N_MODEL)):\n",
    "        for idx, (xx, yy) in enumerate(train_loader):\n",
    "            optimizer.zero_grad()\n",
    "            xx, yy = xx.to(DEVICE), yy.to(DEVICE)\n",
    "            pred = model(xx).squeeze()\n",
    "            loss = criterion(pred, yy)\n",
    "            loss.backward()\n",
    "            optimizer.step()\n",
    "            scheduler.step(epoch + idx / len(train_loader))\n",
    "        \n",
    "    model.eval()\n",
    "    with torch.no_grad():\n",
    "        for idx, (xx, _) in enumerate(valid_loader):\n",
    "            xx = xx.to(DEVICE)\n",
    "            pred_val = (torch.sigmoid(model(xx).detach().to('cpu'))).numpy()\n",
    "            prediction_val[BATCH_SIZE * idx:min(BATCH_SIZE * (idx + 1), len(prediction_val)), :] \\\n",
    "                += pred_val[:, :] / N_MODEL\n",
    "        \n",
    "        for idx, (xx, _) in enumerate(test_loader):\n",
    "            xx = xx.to(DEVICE)\n",
    "            pred = (2. - torch.sigmoid(model(xx).detach().to('cpu'))).numpy()\n",
    "            prediction[BATCH_SIZE * idx:min(BATCH_SIZE * (idx + 1), len(prediction)), :] \\\n",
    "                += pred[:, :] / N_MODEL\n",
    "            "
   ]
  },
  {
   "cell_type": "markdown",
   "metadata": {},
   "source": [
    "# 3. AUC, ACC 예측"
   ]
  },
  {
   "cell_type": "code",
   "execution_count": 162,
   "metadata": {},
   "outputs": [],
   "source": [
    "from sklearn.metrics import accuracy_score\n",
    "from sklearn import metrics\n",
    "\n",
    "def get_auc_acc(y_true, y_pred):\n",
    "    y_pred = y_pred.reshape(len(y_pred))\n",
    "    fpr, tpr, thresholds = metrics.roc_curve(y_true, y_pred, pos_label=1)\n",
    "    roc_auc = metrics.auc(fpr, tpr)\n",
    "    accuracy_score(y_tre, np.round(y_pred))\n",
    "    \n",
    "    return roc_auc, accuracy_score"
   ]
  },
  {
   "cell_type": "code",
   "execution_count": 17,
   "metadata": {},
   "outputs": [
    {
     "data": {
      "text/plain": [
       "0.6982209532176586"
      ]
     },
     "execution_count": 17,
     "metadata": {},
     "output_type": "execute_result"
    }
   ],
   "source": [
    "get_auc"
   ]
  },
  {
   "cell_type": "markdown",
   "metadata": {},
   "source": [
    "# 결과 저장"
   ]
  },
  {
   "cell_type": "code",
   "execution_count": 12,
   "metadata": {},
   "outputs": [],
   "source": [
    "df = pd.read_csv('../0-Data/org/sample_submission.csv')\n",
    "df.iloc[:, 1:] = prediction\n",
    "df.to_csv('./results/{}.csv'.format(datetime.now().strftime('%m%d-%H%M')), index=False)"
   ]
  }
 ],
 "metadata": {
  "kernelspec": {
   "display_name": "Python 3",
   "language": "python",
   "name": "python3"
  },
  "language_info": {
   "codemirror_mode": {
    "name": "ipython",
    "version": 3
   },
   "file_extension": ".py",
   "mimetype": "text/x-python",
   "name": "python",
   "nbconvert_exporter": "python",
   "pygments_lexer": "ipython3",
   "version": "3.7.4"
  }
 },
 "nbformat": 4,
 "nbformat_minor": 4
}
