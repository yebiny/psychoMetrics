{
 "cells": [
  {
   "cell_type": "code",
   "execution_count": 139,
   "metadata": {},
   "outputs": [],
   "source": [
    "import tensorflow as tf\n",
    "import numpy as np\n",
    "import matplotlib.pyplot as plt\n",
    "import pandas as pd"
   ]
  },
  {
   "cell_type": "code",
   "execution_count": 86,
   "metadata": {},
   "outputs": [],
   "source": [
    "x_data = np.load('../2-Processing/x_data.npy')\n",
    "y_data = np.load('../2-Processing/y_data.npy')\n",
    "x_test = np.load('../2-Processing/x_test.npy')"
   ]
  },
  {
   "cell_type": "code",
   "execution_count": 87,
   "metadata": {},
   "outputs": [
    {
     "data": {
      "text/plain": [
       "((45532, 21), (45532, 1), (11383, 21))"
      ]
     },
     "execution_count": 87,
     "metadata": {},
     "output_type": "execute_result"
    }
   ],
   "source": [
    "x_data.shape, y_data.shape, x_test.shape"
   ]
  },
  {
   "cell_type": "code",
   "execution_count": 98,
   "metadata": {},
   "outputs": [],
   "source": [
    "y_data = np.reshape(y_data, (len(y_data), ))"
   ]
  },
  {
   "cell_type": "code",
   "execution_count": 101,
   "metadata": {},
   "outputs": [
    {
     "data": {
      "text/plain": [
       "((20634, 21), (20634,), (24898, 21), (20634,))"
      ]
     },
     "execution_count": 101,
     "metadata": {},
     "output_type": "execute_result"
    }
   ],
   "source": [
    "x1, y1 = x_data[y_data==1], y_data[y_data==1]\n",
    "x0, y0 = x_data[y_data==0], y_data[y_data==1]\n",
    "\n",
    "x1.shape, y1.shape, x0.shape, y0.shape"
   ]
  },
  {
   "cell_type": "code",
   "execution_count": 110,
   "metadata": {},
   "outputs": [],
   "source": [
    "import random\n",
    "n = np.random.choice(24898, 20634, replace=False)"
   ]
  },
  {
   "cell_type": "code",
   "execution_count": 111,
   "metadata": {},
   "outputs": [
    {
     "data": {
      "text/plain": [
       "array([ 3841, 11294, 12561, ...,  4692,  1411, 15362])"
      ]
     },
     "execution_count": 111,
     "metadata": {},
     "output_type": "execute_result"
    }
   ],
   "source": [
    "n"
   ]
  },
  {
   "cell_type": "code",
   "execution_count": 88,
   "metadata": {},
   "outputs": [
    {
     "data": {
      "text/plain": [
       "((40978, 21), (4554, 21))"
      ]
     },
     "execution_count": 88,
     "metadata": {},
     "output_type": "execute_result"
    }
   ],
   "source": [
    "from sklearn.model_selection import train_test_split\n",
    "\n",
    "x_train, x_valid, y_train, y_valid=train_test_split(x_data, y_data, \n",
    "                                                    test_size=0.1, \n",
    "                                                    shuffle=True, \n",
    "                                                    random_state=1004)\n",
    "x_train.shape, x_valid.shape"
   ]
  },
  {
   "cell_type": "code",
   "execution_count": 120,
   "metadata": {},
   "outputs": [],
   "source": [
    "y_train = np.reshape(y_train, (len(y_train), ))\n",
    "y_valid = np.reshape(y_valid, (len(y_valid), ))"
   ]
  },
  {
   "cell_type": "code",
   "execution_count": 129,
   "metadata": {},
   "outputs": [
    {
     "name": "stdout",
     "output_type": "stream",
     "text": [
      "[1]\tvalid_0's auc: 0.744898\tvalid_0's binary_logloss: 0.668936\n",
      "Training until validation scores don't improve for 100 rounds\n",
      "[2]\tvalid_0's auc: 0.747552\tvalid_0's binary_logloss: 0.653121\n",
      "[3]\tvalid_0's auc: 0.748812\tvalid_0's binary_logloss: 0.640061\n",
      "[4]\tvalid_0's auc: 0.749335\tvalid_0's binary_logloss: 0.629112\n",
      "[5]\tvalid_0's auc: 0.749469\tvalid_0's binary_logloss: 0.619927\n",
      "[6]\tvalid_0's auc: 0.750154\tvalid_0's binary_logloss: 0.612162\n",
      "[7]\tvalid_0's auc: 0.750763\tvalid_0's binary_logloss: 0.60545\n",
      "[8]\tvalid_0's auc: 0.750883\tvalid_0's binary_logloss: 0.599831\n",
      "[9]\tvalid_0's auc: 0.750859\tvalid_0's binary_logloss: 0.595184\n",
      "[10]\tvalid_0's auc: 0.751044\tvalid_0's binary_logloss: 0.591097\n",
      "[11]\tvalid_0's auc: 0.751268\tvalid_0's binary_logloss: 0.587578\n",
      "[12]\tvalid_0's auc: 0.75115\tvalid_0's binary_logloss: 0.584714\n",
      "[13]\tvalid_0's auc: 0.751029\tvalid_0's binary_logloss: 0.582142\n",
      "[14]\tvalid_0's auc: 0.751593\tvalid_0's binary_logloss: 0.579781\n",
      "[15]\tvalid_0's auc: 0.751942\tvalid_0's binary_logloss: 0.577763\n",
      "[16]\tvalid_0's auc: 0.751863\tvalid_0's binary_logloss: 0.576233\n",
      "[17]\tvalid_0's auc: 0.752106\tvalid_0's binary_logloss: 0.574662\n",
      "[18]\tvalid_0's auc: 0.752341\tvalid_0's binary_logloss: 0.573309\n",
      "[19]\tvalid_0's auc: 0.752581\tvalid_0's binary_logloss: 0.572204\n",
      "[20]\tvalid_0's auc: 0.753093\tvalid_0's binary_logloss: 0.571058\n",
      "[21]\tvalid_0's auc: 0.753052\tvalid_0's binary_logloss: 0.570361\n",
      "[22]\tvalid_0's auc: 0.753402\tvalid_0's binary_logloss: 0.569548\n",
      "[23]\tvalid_0's auc: 0.753585\tvalid_0's binary_logloss: 0.568922\n",
      "[24]\tvalid_0's auc: 0.753584\tvalid_0's binary_logloss: 0.568443\n",
      "[25]\tvalid_0's auc: 0.753465\tvalid_0's binary_logloss: 0.568043\n",
      "[26]\tvalid_0's auc: 0.753141\tvalid_0's binary_logloss: 0.567833\n",
      "[27]\tvalid_0's auc: 0.753157\tvalid_0's binary_logloss: 0.567394\n",
      "[28]\tvalid_0's auc: 0.753328\tvalid_0's binary_logloss: 0.567088\n",
      "[29]\tvalid_0's auc: 0.753262\tvalid_0's binary_logloss: 0.56681\n",
      "[30]\tvalid_0's auc: 0.753131\tvalid_0's binary_logloss: 0.566606\n",
      "[31]\tvalid_0's auc: 0.753175\tvalid_0's binary_logloss: 0.566367\n",
      "[32]\tvalid_0's auc: 0.753321\tvalid_0's binary_logloss: 0.566099\n",
      "[33]\tvalid_0's auc: 0.753367\tvalid_0's binary_logloss: 0.56588\n",
      "[34]\tvalid_0's auc: 0.753104\tvalid_0's binary_logloss: 0.565857\n",
      "[35]\tvalid_0's auc: 0.752991\tvalid_0's binary_logloss: 0.565769\n",
      "[36]\tvalid_0's auc: 0.752894\tvalid_0's binary_logloss: 0.565745\n",
      "[37]\tvalid_0's auc: 0.753001\tvalid_0's binary_logloss: 0.565554\n",
      "[38]\tvalid_0's auc: 0.752725\tvalid_0's binary_logloss: 0.565606\n",
      "[39]\tvalid_0's auc: 0.752666\tvalid_0's binary_logloss: 0.565572\n",
      "[40]\tvalid_0's auc: 0.752692\tvalid_0's binary_logloss: 0.565542\n",
      "[41]\tvalid_0's auc: 0.752635\tvalid_0's binary_logloss: 0.565517\n",
      "[42]\tvalid_0's auc: 0.752763\tvalid_0's binary_logloss: 0.565433\n",
      "[43]\tvalid_0's auc: 0.752734\tvalid_0's binary_logloss: 0.56544\n",
      "[44]\tvalid_0's auc: 0.753015\tvalid_0's binary_logloss: 0.565304\n",
      "[45]\tvalid_0's auc: 0.753058\tvalid_0's binary_logloss: 0.565254\n",
      "[46]\tvalid_0's auc: 0.752938\tvalid_0's binary_logloss: 0.565276\n",
      "[47]\tvalid_0's auc: 0.752789\tvalid_0's binary_logloss: 0.565337\n",
      "[48]\tvalid_0's auc: 0.752712\tvalid_0's binary_logloss: 0.565388\n",
      "[49]\tvalid_0's auc: 0.752571\tvalid_0's binary_logloss: 0.565433\n",
      "[50]\tvalid_0's auc: 0.752293\tvalid_0's binary_logloss: 0.565559\n",
      "[51]\tvalid_0's auc: 0.752236\tvalid_0's binary_logloss: 0.565547\n",
      "[52]\tvalid_0's auc: 0.75215\tvalid_0's binary_logloss: 0.565532\n",
      "[53]\tvalid_0's auc: 0.752414\tvalid_0's binary_logloss: 0.565442\n",
      "[54]\tvalid_0's auc: 0.752331\tvalid_0's binary_logloss: 0.565464\n",
      "[55]\tvalid_0's auc: 0.752305\tvalid_0's binary_logloss: 0.565445\n",
      "[56]\tvalid_0's auc: 0.752521\tvalid_0's binary_logloss: 0.565226\n",
      "[57]\tvalid_0's auc: 0.752303\tvalid_0's binary_logloss: 0.565322\n",
      "[58]\tvalid_0's auc: 0.752221\tvalid_0's binary_logloss: 0.565418\n",
      "[59]\tvalid_0's auc: 0.752344\tvalid_0's binary_logloss: 0.565327\n",
      "[60]\tvalid_0's auc: 0.752364\tvalid_0's binary_logloss: 0.565302\n",
      "[61]\tvalid_0's auc: 0.75222\tvalid_0's binary_logloss: 0.565315\n",
      "[62]\tvalid_0's auc: 0.75238\tvalid_0's binary_logloss: 0.565294\n",
      "[63]\tvalid_0's auc: 0.752451\tvalid_0's binary_logloss: 0.565308\n",
      "[64]\tvalid_0's auc: 0.752426\tvalid_0's binary_logloss: 0.565306\n",
      "[65]\tvalid_0's auc: 0.752448\tvalid_0's binary_logloss: 0.565207\n",
      "[66]\tvalid_0's auc: 0.752417\tvalid_0's binary_logloss: 0.565245\n",
      "[67]\tvalid_0's auc: 0.752454\tvalid_0's binary_logloss: 0.565227\n",
      "[68]\tvalid_0's auc: 0.752596\tvalid_0's binary_logloss: 0.565243\n",
      "[69]\tvalid_0's auc: 0.752471\tvalid_0's binary_logloss: 0.565369\n",
      "[70]\tvalid_0's auc: 0.752674\tvalid_0's binary_logloss: 0.56532\n",
      "[71]\tvalid_0's auc: 0.752692\tvalid_0's binary_logloss: 0.565281\n",
      "[72]\tvalid_0's auc: 0.75266\tvalid_0's binary_logloss: 0.56532\n",
      "[73]\tvalid_0's auc: 0.75291\tvalid_0's binary_logloss: 0.565178\n",
      "[74]\tvalid_0's auc: 0.752885\tvalid_0's binary_logloss: 0.565262\n",
      "[75]\tvalid_0's auc: 0.753006\tvalid_0's binary_logloss: 0.565246\n",
      "[76]\tvalid_0's auc: 0.753008\tvalid_0's binary_logloss: 0.565156\n",
      "[77]\tvalid_0's auc: 0.752773\tvalid_0's binary_logloss: 0.565381\n",
      "[78]\tvalid_0's auc: 0.75256\tvalid_0's binary_logloss: 0.565502\n",
      "[79]\tvalid_0's auc: 0.752612\tvalid_0's binary_logloss: 0.565541\n",
      "[80]\tvalid_0's auc: 0.752639\tvalid_0's binary_logloss: 0.56554\n",
      "[81]\tvalid_0's auc: 0.75266\tvalid_0's binary_logloss: 0.565527\n",
      "[82]\tvalid_0's auc: 0.752698\tvalid_0's binary_logloss: 0.565503\n",
      "[83]\tvalid_0's auc: 0.75271\tvalid_0's binary_logloss: 0.565505\n",
      "[84]\tvalid_0's auc: 0.752437\tvalid_0's binary_logloss: 0.565654\n",
      "[85]\tvalid_0's auc: 0.752368\tvalid_0's binary_logloss: 0.565731\n",
      "[86]\tvalid_0's auc: 0.752373\tvalid_0's binary_logloss: 0.565702\n",
      "[87]\tvalid_0's auc: 0.752411\tvalid_0's binary_logloss: 0.565695\n",
      "[88]\tvalid_0's auc: 0.752327\tvalid_0's binary_logloss: 0.565771\n",
      "[89]\tvalid_0's auc: 0.752465\tvalid_0's binary_logloss: 0.565721\n",
      "[90]\tvalid_0's auc: 0.752454\tvalid_0's binary_logloss: 0.565724\n",
      "[91]\tvalid_0's auc: 0.752264\tvalid_0's binary_logloss: 0.565888\n",
      "[92]\tvalid_0's auc: 0.752235\tvalid_0's binary_logloss: 0.565959\n",
      "[93]\tvalid_0's auc: 0.752261\tvalid_0's binary_logloss: 0.565916\n",
      "[94]\tvalid_0's auc: 0.752285\tvalid_0's binary_logloss: 0.565961\n",
      "[95]\tvalid_0's auc: 0.752217\tvalid_0's binary_logloss: 0.565972\n",
      "[96]\tvalid_0's auc: 0.752043\tvalid_0's binary_logloss: 0.566111\n",
      "[97]\tvalid_0's auc: 0.751922\tvalid_0's binary_logloss: 0.566097\n",
      "[98]\tvalid_0's auc: 0.751875\tvalid_0's binary_logloss: 0.56614\n",
      "[99]\tvalid_0's auc: 0.75188\tvalid_0's binary_logloss: 0.56617\n",
      "[100]\tvalid_0's auc: 0.751906\tvalid_0's binary_logloss: 0.566119\n",
      "[101]\tvalid_0's auc: 0.751764\tvalid_0's binary_logloss: 0.566103\n",
      "[102]\tvalid_0's auc: 0.751651\tvalid_0's binary_logloss: 0.566212\n",
      "[103]\tvalid_0's auc: 0.75167\tvalid_0's binary_logloss: 0.566162\n",
      "[104]\tvalid_0's auc: 0.751629\tvalid_0's binary_logloss: 0.5662\n",
      "[105]\tvalid_0's auc: 0.751798\tvalid_0's binary_logloss: 0.566104\n",
      "[106]\tvalid_0's auc: 0.751882\tvalid_0's binary_logloss: 0.566041\n",
      "[107]\tvalid_0's auc: 0.751985\tvalid_0's binary_logloss: 0.565945\n",
      "[108]\tvalid_0's auc: 0.75207\tvalid_0's binary_logloss: 0.565884\n",
      "[109]\tvalid_0's auc: 0.752074\tvalid_0's binary_logloss: 0.565994\n",
      "[110]\tvalid_0's auc: 0.752131\tvalid_0's binary_logloss: 0.565986\n",
      "[111]\tvalid_0's auc: 0.752365\tvalid_0's binary_logloss: 0.565864\n",
      "[112]\tvalid_0's auc: 0.75237\tvalid_0's binary_logloss: 0.565883\n",
      "[113]\tvalid_0's auc: 0.752539\tvalid_0's binary_logloss: 0.565706\n",
      "[114]\tvalid_0's auc: 0.752537\tvalid_0's binary_logloss: 0.565724\n",
      "[115]\tvalid_0's auc: 0.752431\tvalid_0's binary_logloss: 0.565804\n",
      "[116]\tvalid_0's auc: 0.752466\tvalid_0's binary_logloss: 0.565888\n",
      "[117]\tvalid_0's auc: 0.752603\tvalid_0's binary_logloss: 0.565787\n",
      "[118]\tvalid_0's auc: 0.75274\tvalid_0's binary_logloss: 0.565724\n",
      "[119]\tvalid_0's auc: 0.752729\tvalid_0's binary_logloss: 0.565772\n",
      "[120]\tvalid_0's auc: 0.752616\tvalid_0's binary_logloss: 0.565804\n",
      "[121]\tvalid_0's auc: 0.752955\tvalid_0's binary_logloss: 0.565644\n",
      "[122]\tvalid_0's auc: 0.753169\tvalid_0's binary_logloss: 0.565505\n",
      "[123]\tvalid_0's auc: 0.75311\tvalid_0's binary_logloss: 0.565528\n",
      "Early stopping, best iteration is:\n",
      "[23]\tvalid_0's auc: 0.753585\tvalid_0's binary_logloss: 0.568922\n"
     ]
    },
    {
     "data": {
      "text/plain": [
       "LGBMClassifier(boosting_type='gbdt', class_weight=None, colsample_bytree=1.0,\n",
       "               importance_type='split', learning_rate=0.1, max_depth=-1,\n",
       "               min_child_samples=20, min_child_weight=0.001, min_split_gain=0.0,\n",
       "               n_estimators=500, n_jobs=-1, num_leaves=31, objective=None,\n",
       "               random_state=None, reg_alpha=0.0, reg_lambda=0.0, silent=True,\n",
       "               subsample=1.0, subsample_for_bin=200000, subsample_freq=0)"
      ]
     },
     "execution_count": 129,
     "metadata": {},
     "output_type": "execute_result"
    }
   ],
   "source": [
    "import lightgbm as lgbm\n",
    "model = lgbm.LGBMClassifier(n_estimators=500)\n",
    "model.fit(x_train, y_train, early_stopping_rounds=100, \n",
    "         eval_metric='auc',\n",
    "         eval_set=(x_valid, y_valid), verbose=True)"
   ]
  },
  {
   "cell_type": "code",
   "execution_count": 130,
   "metadata": {},
   "outputs": [],
   "source": [
    "y_pred = model.predict(x_valid)"
   ]
  },
  {
   "cell_type": "code",
   "execution_count": 131,
   "metadata": {},
   "outputs": [
    {
     "data": {
      "text/plain": [
       "(3108, 4554)"
      ]
     },
     "execution_count": 131,
     "metadata": {},
     "output_type": "execute_result"
    }
   ],
   "source": [
    "count=0\n",
    "for y, y_h in zip(y_valid, y_pred):\n",
    "    if y==y_h: count+=1\n",
    "count, len(y_valid)"
   ]
  },
  {
   "cell_type": "code",
   "execution_count": 132,
   "metadata": {},
   "outputs": [
    {
     "data": {
      "text/plain": [
       "0.6824769433465085"
      ]
     },
     "execution_count": 132,
     "metadata": {},
     "output_type": "execute_result"
    }
   ],
   "source": [
    "count/len(y_valid)"
   ]
  },
  {
   "cell_type": "code",
   "execution_count": 142,
   "metadata": {},
   "outputs": [],
   "source": [
    "y_sub = model.predict(x_test)"
   ]
  },
  {
   "cell_type": "code",
   "execution_count": 144,
   "metadata": {},
   "outputs": [
    {
     "data": {
      "text/plain": [
       "array([2, 2, 2, ..., 1, 1, 1])"
      ]
     },
     "execution_count": 144,
     "metadata": {},
     "output_type": "execute_result"
    }
   ],
   "source": [
    "y_sub[y_sub==0]=2\n",
    "y_sub"
   ]
  },
  {
   "cell_type": "code",
   "execution_count": 145,
   "metadata": {},
   "outputs": [],
   "source": [
    "submission=pd.read_csv('../0-Data/org/sample_submission.csv', index_col=0)  "
   ]
  },
  {
   "cell_type": "code",
   "execution_count": 147,
   "metadata": {},
   "outputs": [],
   "source": [
    "submission['voted']=y_sub"
   ]
  },
  {
   "cell_type": "code",
   "execution_count": 150,
   "metadata": {},
   "outputs": [],
   "source": [
    "submission.to_csv('../0-Data/org/sample_submission.csv')"
   ]
  },
  {
   "cell_type": "code",
   "execution_count": null,
   "metadata": {},
   "outputs": [],
   "source": []
  }
 ],
 "metadata": {
  "kernelspec": {
   "display_name": "Python 3",
   "language": "python",
   "name": "python3"
  },
  "language_info": {
   "codemirror_mode": {
    "name": "ipython",
    "version": 3
   },
   "file_extension": ".py",
   "mimetype": "text/x-python",
   "name": "python",
   "nbconvert_exporter": "python",
   "pygments_lexer": "ipython3",
   "version": "3.7.4"
  }
 },
 "nbformat": 4,
 "nbformat_minor": 4
}
